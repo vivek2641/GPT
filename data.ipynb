{
 "cells": [
  {
   "cell_type": "code",
   "execution_count": 124,
   "metadata": {},
   "outputs": [],
   "source": [
    "import json\n",
    "from dateutil.relativedelta import relativedelta\n",
    "from datetime import date\n",
    "from datetime import datetime, timedelta\n"
   ]
  },
  {
   "cell_type": "code",
   "execution_count": 160,
   "metadata": {},
   "outputs": [
    {
     "data": {
      "text/plain": [
       "'????????\\u200d???? Progyan'"
      ]
     },
     "execution_count": 160,
     "metadata": {},
     "output_type": "execute_result"
    }
   ],
   "source": [
    "linkedindata = \"linkedindatafinal.json\"\n",
    "filepath = \"Json/\"+linkedindata\n",
    "with open(filepath, 'r') as json_file:\n",
    "    data = json.load(json_file)\n",
    "\n",
    "# print(data[\"skills\"])\n",
    "# prompt = \"Write a cover letter to \" + manager_name + \" from \" + \\\n",
    "#     employee_name + \" for position at \" + compnay_name\n",
    "# + \". I am excited about the opportunity to join a company that \" + \\\n",
    "#     company_description + \"\\n\" \"I am currently working as \" + occupation + +summary+\", with a total of \" + \\\n",
    "#     str(total_years_experience) + \" years of experience. I have \" + \\\n",
    "#     sub_experience + \" experience in \" + description_of_experience + \"\\n\"\n",
    "# \"My skills include: \" + skills + \". I have completed my education in \" + education + \\\n",
    "#     \" with a major in \" + field + \" from \" + college_name + \\\n",
    "#     \" where I studied \" + course_name + \"\\n\" \"I am based in \" + city + \", \" + \\\n",
    "#     state + \", \" + country + \" and my email address is \" + email + \"\\n\"\n",
    "data[\"data\"][\"skills\"]\n",
    "data[\"data\"][\"first_name\"]\n",
    "\n",
    "    "
   ]
  },
  {
   "cell_type": "markdown",
   "metadata": {},
   "source": []
  },
  {
   "cell_type": "code",
   "execution_count": 159,
   "metadata": {},
   "outputs": [
    {
     "name": "stdout",
     "output_type": "stream",
     "text": [
      " agile methodologies, ajax, algorithm design, artificial intelligence, artificial neural networks, business strategy, c, c++, core java, css, css3, data science, data structures, design patterns, event management, facebook api, facebook open graph protocols, gamification, html, html 5, html5, j2se, java, javascript, jquery, json, linux, machine learning, magento, marketing strategy, mysql, natural language processing, node.js, parallax, php, poetry, product design, programming, python, risk management, semantic web, seo, software development, start ups, venture development, web applications, web development, web services, zend framework\n"
     ]
    }
   ],
   "source": [
    "# print(len(data[\"skills\"]))\n",
    "# skills = \"I have many skills like\"\n",
    "# count = 1\n",
    "# if data[\"skills\"] = Null:\n",
    "skills=\"\"\n",
    "for i in range(len(data[\"data\"][\"skills\"])):\n",
    "    skills_data=data[\"data\"][\"skills\"][i]\n",
    "    if i == 0:\n",
    "        skills += \" \" + skills_data\n",
    "    else:\n",
    "        skills += \", \" + skills_data\n",
    "    \n",
    "print(skills)\n"
   ]
  },
  {
   "cell_type": "code",
   "execution_count": 137,
   "metadata": {},
   "outputs": [
    {
     "name": "stdout",
     "output_type": "stream",
     "text": [
      "I have total 11 Years of experiences.In which i have 4.2 years of experience at Medlex.ai and my role is Machine Learning Developer.\n",
      "I have total 11 Years of experiences.In which i have 4.2 years of experience at Medlex.ai and my role is Machine Learning Developer.In which i have 5 months of experience at Zidisha and my role is Chief Technology Officer, and Zidisha is the first online microlending community that directly connects lenders and borrowers — no matter the distance or disparity between them.\n",
      "\n",
      "More than 200,000 people worldwide have started using Zidisha.\n",
      "I have total 11 Years of experiences.In which i have 4.2 years of experience at Medlex.ai and my role is Machine Learning Developer.In which i have 5 months of experience at Zidisha and my role is Chief Technology Officer, and Zidisha is the first online microlending community that directly connects lenders and borrowers — no matter the distance or disparity between them.\n",
      "\n",
      "More than 200,000 people worldwide have started using Zidisha.In which i have 1.9 years of experience at Remarkin.com and my role is Founder / CEO, and Remarkin.com is a start-up venture aims to make education easy, engaging and creative.\n",
      "I have total 11 Years of experiences.In which i have 4.2 years of experience at Medlex.ai and my role is Machine Learning Developer.In which i have 5 months of experience at Zidisha and my role is Chief Technology Officer, and Zidisha is the first online microlending community that directly connects lenders and borrowers — no matter the distance or disparity between them.\n",
      "\n",
      "More than 200,000 people worldwide have started using Zidisha.In which i have 1.9 years of experience at Remarkin.com and my role is Founder / CEO, and Remarkin.com is a start-up venture aims to make education easy, engaging and creative.In which i have 2.0 years of experience at Venture Design Fellow and my role is Venture Studio, and Venture Studio program follows a design methodology based from research conducted in the field of engineering and product innovation. The program is run by Ahmedabad University in Collaboration with Center for Design Research at Stanford University\n",
      "I have total 11 Years of experiences.In which i have 4.2 years of experience at Medlex.ai and my role is Machine Learning Developer.In which i have 5 months of experience at Zidisha and my role is Chief Technology Officer, and Zidisha is the first online microlending community that directly connects lenders and borrowers — no matter the distance or disparity between them.\n",
      "\n",
      "More than 200,000 people worldwide have started using Zidisha.In which i have 1.9 years of experience at Remarkin.com and my role is Founder / CEO, and Remarkin.com is a start-up venture aims to make education easy, engaging and creative.In which i have 2.0 years of experience at Venture Design Fellow and my role is Venture Studio, and Venture Studio program follows a design methodology based from research conducted in the field of engineering and product innovation. The program is run by Ahmedabad University in Collaboration with Center for Design Research at Stanford UniversityIn which i have 10 months of experience at Aspire Institute and my role is Trainer/ faculty, and Coaching for Advance web development with PHP\n",
      "I have total 11 Years of experiences.In which i have 4.2 years of experience at Medlex.ai and my role is Machine Learning Developer.In which i have 5 months of experience at Zidisha and my role is Chief Technology Officer, and Zidisha is the first online microlending community that directly connects lenders and borrowers — no matter the distance or disparity between them.\n",
      "\n",
      "More than 200,000 people worldwide have started using Zidisha.In which i have 1.9 years of experience at Remarkin.com and my role is Founder / CEO, and Remarkin.com is a start-up venture aims to make education easy, engaging and creative.In which i have 2.0 years of experience at Venture Design Fellow and my role is Venture Studio, and Venture Studio program follows a design methodology based from research conducted in the field of engineering and product innovation. The program is run by Ahmedabad University in Collaboration with Center for Design Research at Stanford UniversityIn which i have 10 months of experience at Aspire Institute and my role is Trainer/ faculty, and Coaching for Advance web development with PHPIn which i have 4 months of experience at Vox Populi Club and my role is Tech-Event Manager, and VP-club is club in L.D. College of Engineering, Ahmedabad.\n",
      "that organizes events to keep Engineers Beating ..:)\n",
      "I have total 11 Years of experiences.In which i have 4.2 years of experience at Medlex.ai and my role is Machine Learning Developer.In which i have 5 months of experience at Zidisha and my role is Chief Technology Officer, and Zidisha is the first online microlending community that directly connects lenders and borrowers — no matter the distance or disparity between them.\n",
      "\n",
      "More than 200,000 people worldwide have started using Zidisha.In which i have 1.9 years of experience at Remarkin.com and my role is Founder / CEO, and Remarkin.com is a start-up venture aims to make education easy, engaging and creative.In which i have 2.0 years of experience at Venture Design Fellow and my role is Venture Studio, and Venture Studio program follows a design methodology based from research conducted in the field of engineering and product innovation. The program is run by Ahmedabad University in Collaboration with Center for Design Research at Stanford UniversityIn which i have 10 months of experience at Aspire Institute and my role is Trainer/ faculty, and Coaching for Advance web development with PHPIn which i have 4 months of experience at Vox Populi Club and my role is Tech-Event Manager, and VP-club is club in L.D. College of Engineering, Ahmedabad.\n",
      "that organizes events to keep Engineers Beating ..:)In which i have 1.0 years of experience at Vox Populi Magazine and my role is Techtonic, and Working for tech department of Vox-Populi Magazine.\n",
      "I have total 11 Years of experiences.In which i have 4.2 years of experience at Medlex.ai and my role is Machine Learning Developer.In which i have 5 months of experience at Zidisha and my role is Chief Technology Officer, and Zidisha is the first online microlending community that directly connects lenders and borrowers — no matter the distance or disparity between them.\n",
      "\n",
      "More than 200,000 people worldwide have started using Zidisha.In which i have 1.9 years of experience at Remarkin.com and my role is Founder / CEO, and Remarkin.com is a start-up venture aims to make education easy, engaging and creative.In which i have 2.0 years of experience at Venture Design Fellow and my role is Venture Studio, and Venture Studio program follows a design methodology based from research conducted in the field of engineering and product innovation. The program is run by Ahmedabad University in Collaboration with Center for Design Research at Stanford UniversityIn which i have 10 months of experience at Aspire Institute and my role is Trainer/ faculty, and Coaching for Advance web development with PHPIn which i have 4 months of experience at Vox Populi Club and my role is Tech-Event Manager, and VP-club is club in L.D. College of Engineering, Ahmedabad.\n",
      "that organizes events to keep Engineers Beating ..:)In which i have 1.0 years of experience at Vox Populi Magazine and my role is Techtonic, and Working for tech department of Vox-Populi Magazine.In which i have 11 months of experience at Vox Populi Club and my role is Manager OF Technical Events, and I work as a Technical Event manger at Vox Populi Club\n",
      "In LD College of Engineering Ahmedabad\n",
      "I have total 11 Years of experiences.In which i have 4.2 years of experience at Medlex.ai and my role is Machine Learning Developer.In which i have 5 months of experience at Zidisha and my role is Chief Technology Officer, and Zidisha is the first online microlending community that directly connects lenders and borrowers — no matter the distance or disparity between them.\n",
      "\n",
      "More than 200,000 people worldwide have started using Zidisha.In which i have 1.9 years of experience at Remarkin.com and my role is Founder / CEO, and Remarkin.com is a start-up venture aims to make education easy, engaging and creative.In which i have 2.0 years of experience at Venture Design Fellow and my role is Venture Studio, and Venture Studio program follows a design methodology based from research conducted in the field of engineering and product innovation. The program is run by Ahmedabad University in Collaboration with Center for Design Research at Stanford UniversityIn which i have 10 months of experience at Aspire Institute and my role is Trainer/ faculty, and Coaching for Advance web development with PHPIn which i have 4 months of experience at Vox Populi Club and my role is Tech-Event Manager, and VP-club is club in L.D. College of Engineering, Ahmedabad.\n",
      "that organizes events to keep Engineers Beating ..:)In which i have 1.0 years of experience at Vox Populi Magazine and my role is Techtonic, and Working for tech department of Vox-Populi Magazine.In which i have 11 months of experience at Vox Populi Club and my role is Manager OF Technical Events, and I work as a Technical Event manger at Vox Populi Club\n",
      "In LD College of Engineering AhmedabadIn which i have 9 months of experience at Topupchat.com and my role is CEO/founder, and As a CEO I invent all new feature of this website topupchat.com,\n",
      "the entire idea, code and design of this website is designed and invented by me\n",
      "I have total 11 Years of experiences.In which i have 4.2 years of experience at Medlex.ai and my role is Machine Learning Developer.In which i have 5 months of experience at Zidisha and my role is Chief Technology Officer, and Zidisha is the first online microlending community that directly connects lenders and borrowers — no matter the distance or disparity between them.\n",
      "\n",
      "More than 200,000 people worldwide have started using Zidisha.In which i have 1.9 years of experience at Remarkin.com and my role is Founder / CEO, and Remarkin.com is a start-up venture aims to make education easy, engaging and creative.In which i have 2.0 years of experience at Venture Design Fellow and my role is Venture Studio, and Venture Studio program follows a design methodology based from research conducted in the field of engineering and product innovation. The program is run by Ahmedabad University in Collaboration with Center for Design Research at Stanford UniversityIn which i have 10 months of experience at Aspire Institute and my role is Trainer/ faculty, and Coaching for Advance web development with PHPIn which i have 4 months of experience at Vox Populi Club and my role is Tech-Event Manager, and VP-club is club in L.D. College of Engineering, Ahmedabad.\n",
      "that organizes events to keep Engineers Beating ..:)In which i have 1.0 years of experience at Vox Populi Magazine and my role is Techtonic, and Working for tech department of Vox-Populi Magazine.In which i have 11 months of experience at Vox Populi Club and my role is Manager OF Technical Events, and I work as a Technical Event manger at Vox Populi Club\n",
      "In LD College of Engineering AhmedabadIn which i have 9 months of experience at Topupchat.com and my role is CEO/founder, and As a CEO I invent all new feature of this website topupchat.com,\n",
      "the entire idea, code and design of this website is designed and invented by meIn which i have 1.9 years of experience at ArtuData and my role is Chief Data Scientist, and 80% of your profit is generated by just 2% of your visitors\n",
      "ArtuData empowers your marketing and sales teams to identify leads in real-time, giving each team full focus to convert them into paying customers. Now you can boost your efficiency and ROI while reducing your cost per acquisition.\n",
      "I have total 11 Years of experiences.In which i have 4.2 years of experience at Medlex.ai and my role is Machine Learning Developer.In which i have 5 months of experience at Zidisha and my role is Chief Technology Officer, and Zidisha is the first online microlending community that directly connects lenders and borrowers — no matter the distance or disparity between them.\n",
      "\n",
      "More than 200,000 people worldwide have started using Zidisha.In which i have 1.9 years of experience at Remarkin.com and my role is Founder / CEO, and Remarkin.com is a start-up venture aims to make education easy, engaging and creative.In which i have 2.0 years of experience at Venture Design Fellow and my role is Venture Studio, and Venture Studio program follows a design methodology based from research conducted in the field of engineering and product innovation. The program is run by Ahmedabad University in Collaboration with Center for Design Research at Stanford UniversityIn which i have 10 months of experience at Aspire Institute and my role is Trainer/ faculty, and Coaching for Advance web development with PHPIn which i have 4 months of experience at Vox Populi Club and my role is Tech-Event Manager, and VP-club is club in L.D. College of Engineering, Ahmedabad.\n",
      "that organizes events to keep Engineers Beating ..:)In which i have 1.0 years of experience at Vox Populi Magazine and my role is Techtonic, and Working for tech department of Vox-Populi Magazine.In which i have 11 months of experience at Vox Populi Club and my role is Manager OF Technical Events, and I work as a Technical Event manger at Vox Populi Club\n",
      "In LD College of Engineering AhmedabadIn which i have 9 months of experience at Topupchat.com and my role is CEO/founder, and As a CEO I invent all new feature of this website topupchat.com,\n",
      "the entire idea, code and design of this website is designed and invented by meIn which i have 1.9 years of experience at ArtuData and my role is Chief Data Scientist, and 80% of your profit is generated by just 2% of your visitors\n",
      "ArtuData empowers your marketing and sales teams to identify leads in real-time, giving each team full focus to convert them into paying customers. Now you can boost your efficiency and ROI while reducing your cost per acquisition.In which i have 1.0 years of experience at Johnson & Johnson and my role is Lead Data Scientist and Machine Learning Expert, and Worked as a Lead Data Scientist and Machine Learning Expert at Johnson & Johnson - Data Science.\n",
      "Created data pipelines, which used millions of data points, for the identification of the best strategies to increase the effectiveness of professional educational events.\n",
      "I have total 11 Years of experiences.In which i have 4.2 years of experience at Medlex.ai and my role is Machine Learning Developer.In which i have 5 months of experience at Zidisha and my role is Chief Technology Officer, and Zidisha is the first online microlending community that directly connects lenders and borrowers — no matter the distance or disparity between them.\n",
      "\n",
      "More than 200,000 people worldwide have started using Zidisha.In which i have 1.9 years of experience at Remarkin.com and my role is Founder / CEO, and Remarkin.com is a start-up venture aims to make education easy, engaging and creative.In which i have 2.0 years of experience at Venture Design Fellow and my role is Venture Studio, and Venture Studio program follows a design methodology based from research conducted in the field of engineering and product innovation. The program is run by Ahmedabad University in Collaboration with Center for Design Research at Stanford UniversityIn which i have 10 months of experience at Aspire Institute and my role is Trainer/ faculty, and Coaching for Advance web development with PHPIn which i have 4 months of experience at Vox Populi Club and my role is Tech-Event Manager, and VP-club is club in L.D. College of Engineering, Ahmedabad.\n",
      "that organizes events to keep Engineers Beating ..:)In which i have 1.0 years of experience at Vox Populi Magazine and my role is Techtonic, and Working for tech department of Vox-Populi Magazine.In which i have 11 months of experience at Vox Populi Club and my role is Manager OF Technical Events, and I work as a Technical Event manger at Vox Populi Club\n",
      "In LD College of Engineering AhmedabadIn which i have 9 months of experience at Topupchat.com and my role is CEO/founder, and As a CEO I invent all new feature of this website topupchat.com,\n",
      "the entire idea, code and design of this website is designed and invented by meIn which i have 1.9 years of experience at ArtuData and my role is Chief Data Scientist, and 80% of your profit is generated by just 2% of your visitors\n",
      "ArtuData empowers your marketing and sales teams to identify leads in real-time, giving each team full focus to convert them into paying customers. Now you can boost your efficiency and ROI while reducing your cost per acquisition.In which i have 1.0 years of experience at Johnson & Johnson and my role is Lead Data Scientist and Machine Learning Expert, and Worked as a Lead Data Scientist and Machine Learning Expert at Johnson & Johnson - Data Science.\n",
      "Created data pipelines, which used millions of data points, for the identification of the best strategies to increase the effectiveness of professional educational events.In which i have 1.0 years of experience at Loom Network and my role is Lead Go Developer, and Built a Karma system for a decentralized crypto platform and implemented a Sparse Merkle Tree.\n",
      "I have total 11 Years of experiences.In which i have 4.2 years of experience at Medlex.ai and my role is Machine Learning Developer.In which i have 5 months of experience at Zidisha and my role is Chief Technology Officer, and Zidisha is the first online microlending community that directly connects lenders and borrowers — no matter the distance or disparity between them.\n",
      "\n",
      "More than 200,000 people worldwide have started using Zidisha.In which i have 1.9 years of experience at Remarkin.com and my role is Founder / CEO, and Remarkin.com is a start-up venture aims to make education easy, engaging and creative.In which i have 2.0 years of experience at Venture Design Fellow and my role is Venture Studio, and Venture Studio program follows a design methodology based from research conducted in the field of engineering and product innovation. The program is run by Ahmedabad University in Collaboration with Center for Design Research at Stanford UniversityIn which i have 10 months of experience at Aspire Institute and my role is Trainer/ faculty, and Coaching for Advance web development with PHPIn which i have 4 months of experience at Vox Populi Club and my role is Tech-Event Manager, and VP-club is club in L.D. College of Engineering, Ahmedabad.\n",
      "that organizes events to keep Engineers Beating ..:)In which i have 1.0 years of experience at Vox Populi Magazine and my role is Techtonic, and Working for tech department of Vox-Populi Magazine.In which i have 11 months of experience at Vox Populi Club and my role is Manager OF Technical Events, and I work as a Technical Event manger at Vox Populi Club\n",
      "In LD College of Engineering AhmedabadIn which i have 9 months of experience at Topupchat.com and my role is CEO/founder, and As a CEO I invent all new feature of this website topupchat.com,\n",
      "the entire idea, code and design of this website is designed and invented by meIn which i have 1.9 years of experience at ArtuData and my role is Chief Data Scientist, and 80% of your profit is generated by just 2% of your visitors\n",
      "ArtuData empowers your marketing and sales teams to identify leads in real-time, giving each team full focus to convert them into paying customers. Now you can boost your efficiency and ROI while reducing your cost per acquisition.In which i have 1.0 years of experience at Johnson & Johnson and my role is Lead Data Scientist and Machine Learning Expert, and Worked as a Lead Data Scientist and Machine Learning Expert at Johnson & Johnson - Data Science.\n",
      "Created data pipelines, which used millions of data points, for the identification of the best strategies to increase the effectiveness of professional educational events.In which i have 1.0 years of experience at Loom Network and my role is Lead Go Developer, and Built a Karma system for a decentralized crypto platform and implemented a Sparse Merkle Tree.In which i have 1.0 years of experience at Paravision and my role is TensorFlow Expert, and Invented the fastest algorithm to identify the correct face using machine learning with a 99.81% accuracy.\n"
     ]
    },
    {
     "ename": "TypeError",
     "evalue": "'NoneType' object is not subscriptable",
     "output_type": "error",
     "traceback": [
      "\u001b[0;31m---------------------------------------------------------------------------\u001b[0m",
      "\u001b[0;31mTypeError\u001b[0m                                 Traceback (most recent call last)",
      "\u001b[0;32m<ipython-input-137-d36e9a2491ef>\u001b[0m in \u001b[0;36m<module>\u001b[0;34m\u001b[0m\n\u001b[1;32m     46\u001b[0m         \u001b[0;31m# print(j)\u001b[0m\u001b[0;34m\u001b[0m\u001b[0;34m\u001b[0m\u001b[0;34m\u001b[0m\u001b[0m\n\u001b[1;32m     47\u001b[0m         \u001b[0mstart_date\u001b[0m \u001b[0;34m=\u001b[0m \u001b[0mstr\u001b[0m\u001b[0;34m(\u001b[0m\u001b[0mdata\u001b[0m\u001b[0;34m[\u001b[0m\u001b[0;34m\"experiences\"\u001b[0m\u001b[0;34m]\u001b[0m\u001b[0;34m[\u001b[0m\u001b[0mj\u001b[0m\u001b[0;34m]\u001b[0m\u001b[0;34m[\u001b[0m\u001b[0;34m'starts_at'\u001b[0m\u001b[0;34m]\u001b[0m\u001b[0;34m[\u001b[0m\u001b[0;34m'year'\u001b[0m\u001b[0;34m]\u001b[0m\u001b[0;34m)\u001b[0m\u001b[0;34m+\u001b[0m\u001b[0;34m\"-\"\u001b[0m\u001b[0;34m+\u001b[0m \u001b[0mstr\u001b[0m\u001b[0;34m(\u001b[0m\u001b[0mdata\u001b[0m\u001b[0;34m[\u001b[0m\u001b[0;34m\"experiences\"\u001b[0m\u001b[0;34m]\u001b[0m\u001b[0;34m[\u001b[0m\u001b[0mj\u001b[0m\u001b[0;34m]\u001b[0m\u001b[0;34m[\u001b[0m\u001b[0;34m'starts_at'\u001b[0m\u001b[0;34m]\u001b[0m\u001b[0;34m[\u001b[0m\u001b[0;34m'month'\u001b[0m\u001b[0;34m]\u001b[0m\u001b[0;34m)\u001b[0m \u001b[0;34m+\u001b[0m \u001b[0;34m\"-\"\u001b[0m\u001b[0;34m+\u001b[0m \u001b[0mstr\u001b[0m\u001b[0;34m(\u001b[0m\u001b[0mdata\u001b[0m\u001b[0;34m[\u001b[0m\u001b[0;34m\"experiences\"\u001b[0m\u001b[0;34m]\u001b[0m\u001b[0;34m[\u001b[0m\u001b[0mj\u001b[0m\u001b[0;34m]\u001b[0m\u001b[0;34m[\u001b[0m\u001b[0;34m'starts_at'\u001b[0m\u001b[0;34m]\u001b[0m\u001b[0;34m[\u001b[0m\u001b[0;34m'day'\u001b[0m\u001b[0;34m]\u001b[0m\u001b[0;34m)\u001b[0m\u001b[0;34m\u001b[0m\u001b[0;34m\u001b[0m\u001b[0m\n\u001b[0;32m---> 48\u001b[0;31m         \u001b[0mend_date\u001b[0m \u001b[0;34m=\u001b[0m \u001b[0mstr\u001b[0m\u001b[0;34m(\u001b[0m\u001b[0mdata\u001b[0m\u001b[0;34m[\u001b[0m\u001b[0;34m\"experiences\"\u001b[0m\u001b[0;34m]\u001b[0m\u001b[0;34m[\u001b[0m\u001b[0mj\u001b[0m\u001b[0;34m]\u001b[0m\u001b[0;34m[\u001b[0m\u001b[0;34m'ends_at'\u001b[0m\u001b[0;34m]\u001b[0m\u001b[0;34m[\u001b[0m\u001b[0;34m'year'\u001b[0m\u001b[0;34m]\u001b[0m\u001b[0;34m)\u001b[0m \u001b[0;34m+\u001b[0m \u001b[0;34m\"-\"\u001b[0m\u001b[0;34m+\u001b[0m\u001b[0mstr\u001b[0m\u001b[0;34m(\u001b[0m\u001b[0mdata\u001b[0m\u001b[0;34m[\u001b[0m\u001b[0;34m\"experiences\"\u001b[0m\u001b[0;34m]\u001b[0m\u001b[0;34m[\u001b[0m\u001b[0mj\u001b[0m\u001b[0;34m]\u001b[0m\u001b[0;34m[\u001b[0m\u001b[0;34m'ends_at'\u001b[0m\u001b[0;34m]\u001b[0m\u001b[0;34m[\u001b[0m\u001b[0;34m'month'\u001b[0m\u001b[0;34m]\u001b[0m\u001b[0;34m)\u001b[0m \u001b[0;34m+\u001b[0m \u001b[0;34m\"-\"\u001b[0m\u001b[0;34m+\u001b[0m \u001b[0mstr\u001b[0m\u001b[0;34m(\u001b[0m\u001b[0mdata\u001b[0m\u001b[0;34m[\u001b[0m\u001b[0;34m\"experiences\"\u001b[0m\u001b[0;34m]\u001b[0m\u001b[0;34m[\u001b[0m\u001b[0mj\u001b[0m\u001b[0;34m]\u001b[0m\u001b[0;34m[\u001b[0m\u001b[0;34m'ends_at'\u001b[0m\u001b[0;34m]\u001b[0m\u001b[0;34m[\u001b[0m\u001b[0;34m'day'\u001b[0m\u001b[0;34m]\u001b[0m\u001b[0;34m)\u001b[0m\u001b[0;34m\u001b[0m\u001b[0;34m\u001b[0m\u001b[0m\n\u001b[0m\u001b[1;32m     49\u001b[0m         \u001b[0mstart_date_object\u001b[0m \u001b[0;34m=\u001b[0m \u001b[0mdatetime\u001b[0m\u001b[0;34m.\u001b[0m\u001b[0mstrptime\u001b[0m\u001b[0;34m(\u001b[0m\u001b[0mstr\u001b[0m\u001b[0;34m(\u001b[0m\u001b[0mstart_date\u001b[0m\u001b[0;34m)\u001b[0m\u001b[0;34m,\u001b[0m \u001b[0;34m\"%Y-%m-%d\"\u001b[0m\u001b[0;34m)\u001b[0m\u001b[0;34m\u001b[0m\u001b[0;34m\u001b[0m\u001b[0m\n\u001b[1;32m     50\u001b[0m         \u001b[0mend_date_object\u001b[0m \u001b[0;34m=\u001b[0m \u001b[0mdatetime\u001b[0m\u001b[0;34m.\u001b[0m\u001b[0mstrptime\u001b[0m\u001b[0;34m(\u001b[0m\u001b[0mstr\u001b[0m\u001b[0;34m(\u001b[0m\u001b[0mend_date\u001b[0m\u001b[0;34m)\u001b[0m\u001b[0;34m,\u001b[0m \u001b[0;34m\"%Y-%m-%d\"\u001b[0m\u001b[0;34m)\u001b[0m\u001b[0;34m\u001b[0m\u001b[0;34m\u001b[0m\u001b[0m\n",
      "\u001b[0;31mTypeError\u001b[0m: 'NoneType' object is not subscriptable"
     ]
    }
   ],
   "source": [
    "data[\"experiences\"]\n",
    "todays_date = date.today()\n",
    "experiences=\"I have total\"\n",
    "for j in range(len(data[\"experiences\"])):\n",
    "    # print(j)\n",
    "    if j==0:\n",
    "        \n",
    "        start_date = str(data[\"experiences\"][j]['starts_at']['year'])+\"-\" + str(data[\"experiences\"]\n",
    "                                                                                [j]['starts_at']['month']) + \"-\" + str(data[\"experiences\"][j]['starts_at']['day'])\n",
    "        end_date = str(todays_date.year) + \"-\" + str(todays_date.month)+\"-\"+str(todays_date.day)\n",
    "        start_date_object = datetime.strptime(str(start_date), \"%Y-%m-%d\")\n",
    "        end_date_object = datetime.strptime(str(end_date), \"%Y-%m-%d\")\n",
    "        total_days = (end_date_object - start_date_object).days\n",
    "\n",
    "        data[\"experiences\"][0]['ends_at'] = todays_date.year\n",
    "        # total_experiences = total_days/365\n",
    "\n",
    "        total_experiences = int(data[\"experiences\"][0]['ends_at']) - int(\n",
    "            data[\"experiences\"][len(data[\"experiences\"])-1]['ends_at']['year'])\n",
    "        experiences += \" \" + str(round(total_experiences,1)) + \" Years of experiences.\"\n",
    "\n",
    "\n",
    "        if total_days > 363:\n",
    "            each_experiences = \"In which i have \"\n",
    "            # print(total_days)\n",
    "            each_year = total_days/363\n",
    "            each_experiences += \"\" + str(round(each_year, 1)) + \" years of experience at \" + \\\n",
    "                str(data[\"experiences\"][j]['company']) + \" and my role is \" + \\\n",
    "                str(data[\"experiences\"][j]['title']) + \".\"\n",
    "            # print(each_experiences)\n",
    "            experiences += each_experiences\n",
    "        else:\n",
    "            each_experiences = \"In which i have \"\n",
    "            # print(total_days)\n",
    "            each_month = int(total_days/12)\n",
    "            each_experiences += \"\" + str(each_month) + \" months of experience at \" + \\\n",
    "                str(data[\"experiences\"][j]['company']) + \" and my role is \" + \\\n",
    "                str(data[\"experiences\"][j]['title']) + \".\"\n",
    "            # print(each_experiences)\n",
    "            experiences += each_experiences\n",
    "\n",
    "\n",
    "        # print(experiences)\n",
    "\n",
    "    else:\n",
    "        # print(j)\n",
    "        start_date = str(data[\"experiences\"][j]['starts_at']['year'])+\"-\"+ str(data[\"experiences\"][j]['starts_at']['month']) + \"-\"+ str(data[\"experiences\"][j]['starts_at']['day'])\n",
    "        end_date = str(data[\"experiences\"][j]['ends_at']['year']) + \"-\"+str(data[\"experiences\"][j]['ends_at']['month']) + \"-\"+ str(data[\"experiences\"][j]['ends_at']['day'])\n",
    "        start_date_object = datetime.strptime(str(start_date), \"%Y-%m-%d\")\n",
    "        end_date_object = datetime.strptime(str(end_date), \"%Y-%m-%d\")\n",
    "        total_days = (end_date_object - start_date_object).days\n",
    "        # print(total_days)\n",
    "        if total_days > 363:\n",
    "            # print(total_days)\n",
    "            each_experiences=\"In which i have \"\n",
    "            # print(total_days)\n",
    "            each_year = total_days/360\n",
    "            each_experiences += \"\" + str(round(each_year, 1)) + \" years of experience at \" + \\\n",
    "                str(data[\"experiences\"][j]['company']) + \" and my role is \" + str(\n",
    "                    data[\"experiences\"][j]['title']) + \", and \" + data[\"experiences\"][j]['description']\n",
    "            # print(each_experiences)\n",
    "            experiences += each_experiences\n",
    "    \n",
    "        else :\n",
    "            # print(\"totaldays==\",total_days)\n",
    "            each_experiences = \"In which i have \"\n",
    "            # print(\"total_days/12==\", total_days/12)\n",
    "            each_month = int(total_days/30)\n",
    "            # print(each_month)\n",
    "            each_experiences += \"\" + str(each_month) + \" months of experience at \" + \\\n",
    "                str(data[\"experiences\"][j]['company']) + \" and my role is \" + \\\n",
    "                str(data[\"experiences\"][j]['title']) + \", and \" + \\\n",
    "                data[\"experiences\"][j]['description']\n",
    "            # print(each_experiences)\n",
    "            experiences += each_experiences\n",
    "    print(experiences)\n",
    "       "
   ]
  },
  {
   "cell_type": "code",
   "execution_count": 138,
   "metadata": {},
   "outputs": [
    {
     "name": "stdout",
     "output_type": "stream",
     "text": [
      "I have total 11 Years of experiences.In which i have 4.2 years of experience at Medlex.ai and my role is Machine Learning Developer.In which i have 5 months of experience at Zidisha and my role is Chief Technology Officer, and Zidisha is the first online microlending community that directly connects lenders and borrowers — no matter the distance or disparity between them.\n",
      "\n",
      "More than 200,000 people worldwide have started using Zidisha.In which i have 1.9 years of experience at Remarkin.com and my role is Founder / CEO, and Remarkin.com is a start-up venture aims to make education easy, engaging and creative.In which i have 2.0 years of experience at Venture Design Fellow and my role is Venture Studio, and Venture Studio program follows a design methodology based from research conducted in the field of engineering and product innovation. The program is run by Ahmedabad University in Collaboration with Center for Design Research at Stanford UniversityIn which i have 10 months of experience at Aspire Institute and my role is Trainer/ faculty, and Coaching for Advance web development with PHPIn which i have 4 months of experience at Vox Populi Club and my role is Tech-Event Manager, and VP-club is club in L.D. College of Engineering, Ahmedabad.\n",
      "that organizes events to keep Engineers Beating ..:)In which i have 1.0 years of experience at Vox Populi Magazine and my role is Techtonic, and Working for tech department of Vox-Populi Magazine.In which i have 11 months of experience at Vox Populi Club and my role is Manager OF Technical Events, and I work as a Technical Event manger at Vox Populi Club\n",
      "In LD College of Engineering AhmedabadIn which i have 9 months of experience at Topupchat.com and my role is CEO/founder, and As a CEO I invent all new feature of this website topupchat.com,\n",
      "the entire idea, code and design of this website is designed and invented by meIn which i have 1.9 years of experience at ArtuData and my role is Chief Data Scientist, and 80% of your profit is generated by just 2% of your visitors\n",
      "ArtuData empowers your marketing and sales teams to identify leads in real-time, giving each team full focus to convert them into paying customers. Now you can boost your efficiency and ROI while reducing your cost per acquisition.In which i have 1.0 years of experience at Johnson & Johnson and my role is Lead Data Scientist and Machine Learning Expert, and Worked as a Lead Data Scientist and Machine Learning Expert at Johnson & Johnson - Data Science.\n",
      "Created data pipelines, which used millions of data points, for the identification of the best strategies to increase the effectiveness of professional educational events.In which i have 1.0 years of experience at Loom Network and my role is Lead Go Developer, and Built a Karma system for a decentralized crypto platform and implemented a Sparse Merkle Tree.In which i have 1.0 years of experience at Paravision and my role is TensorFlow Expert, and Invented the fastest algorithm to identify the correct face using machine learning with a 99.81% accuracy.\n"
     ]
    }
   ],
   "source": [
    "print(experiences)\n",
    "\n"
   ]
  },
  {
   "cell_type": "code",
   "execution_count": 15,
   "metadata": {},
   "outputs": [
    {
     "name": "stdout",
     "output_type": "stream",
     "text": [
      "1\n"
     ]
    }
   ],
   "source": [
    "\n",
    "start_date = datetime.strptime(\"01/15/2020\", \"%m/%d/%Y\")\n",
    "end_date = datetime.strptime(\"02/20/2020\", \"%m/%d/%Y\")\n",
    "\n",
    "diff = relativedelta(end_date, start_date)\n",
    "\n",
    "total_months = diff.months + diff.years * 12\n",
    "print(total_months)\n"
   ]
  },
  {
   "cell_type": "code",
   "execution_count": 12,
   "metadata": {},
   "outputs": [
    {
     "name": "stdout",
     "output_type": "stream",
     "text": [
      "2.0\n"
     ]
    }
   ],
   "source": [
    "total_years = diff.years + diff.months/12\n",
    "print(total_years)\n"
   ]
  },
  {
   "cell_type": "code",
   "execution_count": null,
   "metadata": {},
   "outputs": [],
   "source": []
  }
 ],
 "metadata": {
  "kernelspec": {
   "display_name": "Python 3",
   "language": "python",
   "name": "python3"
  },
  "language_info": {
   "codemirror_mode": {
    "name": "ipython",
    "version": 3
   },
   "file_extension": ".py",
   "mimetype": "text/x-python",
   "name": "python",
   "nbconvert_exporter": "python",
   "pygments_lexer": "ipython3",
   "version": "3.8.10"
  },
  "orig_nbformat": 4,
  "vscode": {
   "interpreter": {
    "hash": "31f2aee4e71d21fbe5cf8b01ff0e069b9275f58929596ceb00d14d90e3e16cd6"
   }
  }
 },
 "nbformat": 4,
 "nbformat_minor": 2
}
