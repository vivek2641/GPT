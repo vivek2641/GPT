{
 "cells": [
  {
   "cell_type": "code",
   "execution_count": 4,
   "metadata": {},
   "outputs": [],
   "source": [
    "import json\n"
   ]
  },
  {
   "cell_type": "code",
   "execution_count": 6,
   "metadata": {},
   "outputs": [
    {
     "ename": "NameError",
     "evalue": "name 'manager_name' is not defined",
     "output_type": "error",
     "traceback": [
      "\u001b[0;31m---------------------------------------------------------------------------\u001b[0m",
      "\u001b[0;31mNameError\u001b[0m                                 Traceback (most recent call last)",
      "\u001b[0;32m<ipython-input-6-3fe6c77ad569>\u001b[0m in \u001b[0;36m<module>\u001b[0;34m\u001b[0m\n\u001b[1;32m      5\u001b[0m \u001b[0;34m\u001b[0m\u001b[0m\n\u001b[1;32m      6\u001b[0m \u001b[0;31m# print(data[\"skills\"])\u001b[0m\u001b[0;34m\u001b[0m\u001b[0;34m\u001b[0m\u001b[0;34m\u001b[0m\u001b[0m\n\u001b[0;32m----> 7\u001b[0;31m \u001b[0mprompt\u001b[0m \u001b[0;34m=\u001b[0m \u001b[0;34m\"Write a cover letter to \"\u001b[0m \u001b[0;34m+\u001b[0m \u001b[0mmanager_name\u001b[0m \u001b[0;34m+\u001b[0m \u001b[0;34m\" from \"\u001b[0m \u001b[0;34m+\u001b[0m\u001b[0;31m \u001b[0m\u001b[0;31m\\\u001b[0m\u001b[0;34m\u001b[0m\u001b[0;34m\u001b[0m\u001b[0m\n\u001b[0m\u001b[1;32m      8\u001b[0m     \u001b[0memployee_name\u001b[0m \u001b[0;34m+\u001b[0m \u001b[0;34m\" for position at \"\u001b[0m \u001b[0;34m+\u001b[0m \u001b[0mcompnay_name\u001b[0m\u001b[0;34m\u001b[0m\u001b[0;34m\u001b[0m\u001b[0m\n\u001b[1;32m      9\u001b[0m \u001b[0;34m+\u001b[0m \u001b[0;34m\". I am excited about the opportunity to join a company that \"\u001b[0m \u001b[0;34m+\u001b[0m\u001b[0;31m \u001b[0m\u001b[0;31m\\\u001b[0m\u001b[0;34m\u001b[0m\u001b[0;34m\u001b[0m\u001b[0m\n",
      "\u001b[0;31mNameError\u001b[0m: name 'manager_name' is not defined"
     ]
    }
   ],
   "source": [
    "linkedindata = \"Hemenbhai.json\"\n",
    "filepath = \"Json/\"+linkedindata\n",
    "with open(filepath, 'r') as json_file:\n",
    "    data = json.load(json_file)\n",
    "\n",
    "# print(data[\"skills\"])\n",
    "prompt = \"Write a cover letter to \" + manager_name + \" from \" + \\\n",
    "    employee_name + \" for position at \" + compnay_name\n",
    "+ \". I am excited about the opportunity to join a company that \" + \\\n",
    "    company_description + \"\\n\" \"I am currently working as \" + occupation + +summary+\", with a total of \" + \\\n",
    "    str(total_years_experience) + \" years of experience. I have \" + \\\n",
    "    sub_experience + \" experience in \" + description_of_experience + \"\\n\"\n",
    "\"My skills include: \" + skills + \". I have completed my education in \" + education + \\\n",
    "    \" with a major in \" + field + \" from \" + college_name + \\\n",
    "    \" where I studied \" + course_name + \"\\n\" \"I am based in \" + city + \", \" + \\\n",
    "    state + \", \" + country + \" and my email address is \" + email + \"\\n\"\n",
    "\n",
    "\n",
    "    "
   ]
  },
  {
   "cell_type": "markdown",
   "metadata": {},
   "source": []
  },
  {
   "cell_type": "code",
   "execution_count": 32,
   "metadata": {},
   "outputs": [
    {
     "name": "stdout",
     "output_type": "stream",
     "text": [
      "I have many skills like agile methodologies, ajax, algorithm design, artificial intelligence, artificial neural networks, business strategy, c, c++, core java, css, css3, data science, data structures, design patterns, event management, facebook api, facebook open graph protocols, gamification, html, html 5, html5, j2se, java, javascript, jquery, json, linux, machine learning, magento, marketing strategy, mysql, natural language processing, node.js, parallax, php, poetry, product design, programming, python, risk management, semantic web, seo, software development, start ups, venture development, web applications, web development, web services, zend framework\n"
     ]
    }
   ],
   "source": [
    "# print(len(data[\"skills\"]))\n",
    "skills = \"I have many skills like\"\n",
    "# count = 1\n",
    "if data[\"skills\"] = Null:\n",
    "\n",
    "for i in range(len(data[\"skills\"])):\n",
    "    skills_data=data[\"skills\"][i]\n",
    "    if i == 0:\n",
    "        skills += \" \" + skills_data\n",
    "    else:\n",
    "        skills += \", \" + skills_data\n",
    "    \n",
    "print(skills)\n"
   ]
  },
  {
   "cell_type": "code",
   "execution_count": 50,
   "metadata": {},
   "outputs": [
    {
     "name": "stdout",
     "output_type": "stream",
     "text": [
      "15\n"
     ]
    }
   ],
   "source": [
    "data[\"experiences\"][1]['starts_at']['month']\n",
    "\n",
    "data[\"experiences\"][1]['ends_at']['year']\n",
    "\n",
    "print(len(data[\"experiences\"]))\n"
   ]
  },
  {
   "cell_type": "code",
   "execution_count": 45,
   "metadata": {},
   "outputs": [
    {
     "data": {
      "text/plain": [
       "[{'starts_at': {'day': 1, 'month': 11, 'year': 2018},\n",
       "  'ends_at': None,\n",
       "  'company': 'Medlex.ai',\n",
       "  'company_linkedin_profile_url': None,\n",
       "  'title': 'Machine Learning Developer',\n",
       "  'description': None,\n",
       "  'location': None,\n",
       "  'logo_url': None},\n",
       " {'starts_at': {'day': 1, 'month': 3, 'year': 2015},\n",
       "  'ends_at': {'day': 31, 'month': 7, 'year': 2015},\n",
       "  'company': 'Zidisha',\n",
       "  'company_linkedin_profile_url': None,\n",
       "  'title': 'Chief Technology Officer',\n",
       "  'description': 'Zidisha is the first online microlending community that directly connects lenders and borrowers — no matter the distance or disparity between them.\\n\\nMore than 200,000 people worldwide have started using Zidisha.',\n",
       "  'location': 'Ahmedabad Area, India',\n",
       "  'logo_url': None},\n",
       " {'starts_at': {'day': 1, 'month': 5, 'year': 2013},\n",
       "  'ends_at': {'day': 28, 'month': 2, 'year': 2015},\n",
       "  'company': 'Remarkin.com',\n",
       "  'company_linkedin_profile_url': None,\n",
       "  'title': 'Founder / CEO',\n",
       "  'description': 'Remarkin.com is a start-up venture aims to make education easy, engaging and creative.',\n",
       "  'location': 'Ahmedabad',\n",
       "  'logo_url': None},\n",
       " {'starts_at': {'day': 1, 'month': 3, 'year': 2013},\n",
       "  'ends_at': {'day': 28, 'month': 2, 'year': 2015},\n",
       "  'company': 'Venture Design Fellow',\n",
       "  'company_linkedin_profile_url': None,\n",
       "  'title': 'Venture Studio',\n",
       "  'description': 'Venture Studio program follows a design methodology based from research conducted in the field of engineering and product innovation. The program is run by Ahmedabad University in Collaboration with Center for Design Research at Stanford University',\n",
       "  'location': 'Ahmedabad Area, India',\n",
       "  'logo_url': None},\n",
       " {'starts_at': {'day': 1, 'month': 7, 'year': 2012},\n",
       "  'ends_at': {'day': 30, 'month': 4, 'year': 2013},\n",
       "  'company': 'Aspire Institute',\n",
       "  'company_linkedin_profile_url': None,\n",
       "  'title': 'Trainer/ faculty',\n",
       "  'description': 'Coaching for Advance web development with PHP',\n",
       "  'location': None,\n",
       "  'logo_url': None},\n",
       " {'starts_at': {'day': 1, 'month': 7, 'year': 2012},\n",
       "  'ends_at': {'day': 31, 'month': 10, 'year': 2012},\n",
       "  'company': 'Vox Populi Club',\n",
       "  'company_linkedin_profile_url': None,\n",
       "  'title': 'Tech-Event Manager',\n",
       "  'description': 'VP-club is club in L.D. College of Engineering, Ahmedabad.\\nthat organizes events to keep Engineers Beating ..:)',\n",
       "  'location': 'Ahmedabad Area, India',\n",
       "  'logo_url': None},\n",
       " {'starts_at': {'day': 1, 'month': 1, 'year': 2012},\n",
       "  'ends_at': {'day': 31, 'month': 12, 'year': 2012},\n",
       "  'company': 'Vox Populi Magazine',\n",
       "  'company_linkedin_profile_url': None,\n",
       "  'title': 'Techtonic',\n",
       "  'description': 'Working for tech department of Vox-Populi Magazine.',\n",
       "  'location': None,\n",
       "  'logo_url': None},\n",
       " {'starts_at': {'day': 1, 'month': 1, 'year': 2012},\n",
       "  'ends_at': {'day': 30, 'month': 11, 'year': 2012},\n",
       "  'company': 'Vox Populi Club',\n",
       "  'company_linkedin_profile_url': None,\n",
       "  'title': 'Manager OF Technical Events',\n",
       "  'description': 'I work as a Technical Event manger at Vox Populi Club\\nIn LD College of Engineering Ahmedabad',\n",
       "  'location': 'Ahmedabad',\n",
       "  'logo_url': None},\n",
       " {'starts_at': {'day': 1, 'month': 8, 'year': 2011},\n",
       "  'ends_at': {'day': 30, 'month': 4, 'year': 2012},\n",
       "  'company': 'Topupchat.com',\n",
       "  'company_linkedin_profile_url': None,\n",
       "  'title': 'CEO/founder',\n",
       "  'description': 'As a CEO I invent all new feature of this website topupchat.com,\\nthe entire idea, code and design of this website is designed and invented by me',\n",
       "  'location': None,\n",
       "  'logo_url': None},\n",
       " {'starts_at': {'day': 1, 'month': 3, 'year': 2018},\n",
       "  'ends_at': {'day': 31, 'month': 12, 'year': 2019},\n",
       "  'company': 'ArtuData',\n",
       "  'company_linkedin_profile_url': 'https://in.linkedin.com/company/artudata',\n",
       "  'title': 'Chief Data Scientist',\n",
       "  'description': '80% of your profit is generated by just 2% of your visitors\\nArtuData empowers your marketing and sales teams to identify leads in real-time, giving each team full focus to convert them into paying customers. Now you can boost your efficiency and ROI while reducing your cost per acquisition.',\n",
       "  'location': 'Ahmedabad Area, India',\n",
       "  'logo_url': 'https://media.licdn.com/dms/image/C4D0BAQFUYSqXppGN4A/company-logo_100_100/0/1553600422321?e=2147483647&v=beta&t=_NGmIPIxiP6HC6vSgEgZKIAYwhgH7SYF-u2pxzclchM'},\n",
       " {'starts_at': {'day': 1, 'month': 1, 'year': 2018},\n",
       "  'ends_at': {'day': 31, 'month': 12, 'year': 2018},\n",
       "  'company': 'Johnson & Johnson',\n",
       "  'company_linkedin_profile_url': 'https://in.linkedin.com/company/johnson-&-johnson',\n",
       "  'title': 'Lead Data Scientist and Machine Learning Expert',\n",
       "  'description': 'Worked as a Lead Data Scientist and Machine Learning Expert at Johnson & Johnson - Data Science.\\nCreated data pipelines, which used millions of data points, for the identification of the best strategies to increase the effectiveness of professional educational events.',\n",
       "  'location': None,\n",
       "  'logo_url': 'https://media.licdn.com/dms/image/C4D0BAQFwn8CHaum_AA/company-logo_100_100/0/1519856123566?e=2147483647&v=beta&t=QhT9tuOb_MGhiro5YWz_WYl-YT-Yr4vUB1jXAMMeEZE'},\n",
       " {'starts_at': {'day': 1, 'month': 1, 'year': 2018},\n",
       "  'ends_at': {'day': 31, 'month': 12, 'year': 2018},\n",
       "  'company': 'Loom Network',\n",
       "  'company_linkedin_profile_url': 'https://in.linkedin.com/company/loom-network',\n",
       "  'title': 'Lead Go Developer',\n",
       "  'description': 'Built a Karma system for a decentralized crypto platform and implemented a Sparse Merkle Tree.',\n",
       "  'location': None,\n",
       "  'logo_url': 'https://media.licdn.com/dms/image/C510BAQEnUXssv5qLDg/company-logo_100_100/0/1556203403981?e=2147483647&v=beta&t=SCNAP-8Ff0aB0pk0NVvnPEpe7RuVW3NfeRegYkd4raw'},\n",
       " {'starts_at': {'day': 1, 'month': 1, 'year': 2018},\n",
       "  'ends_at': {'day': 31, 'month': 12, 'year': 2018},\n",
       "  'company': 'Paravision',\n",
       "  'company_linkedin_profile_url': 'https://in.linkedin.com/company/paravision-ai',\n",
       "  'title': 'TensorFlow Expert',\n",
       "  'description': 'Invented the fastest algorithm to identify the correct face using machine learning with a 99.81% accuracy.',\n",
       "  'location': None,\n",
       "  'logo_url': 'https://media.licdn.com/dms/image/D4E0BAQFvFaMgfsnEug/company-logo_100_100/0/1664880788148?e=2147483647&v=beta&t=PMhPhWE1k7eipcrc_zTBoXgZ5beUnGHbIU9hnIg7Twk'},\n",
       " {'starts_at': {'day': 1, 'month': 8, 'year': 2015},\n",
       "  'ends_at': None,\n",
       "  'company': 'F(x) Data Labs PVT LTD',\n",
       "  'company_linkedin_profile_url': 'https://in.linkedin.com/company/fx-data-labs',\n",
       "  'title': 'Founder / Chief Scientist',\n",
       "  'description': 'At F(x) Data Labs, we are working on our algorithm called h+tree which increases the speed limit of the databases that serves more number of users at a time.\\n\\n h+ tree is capable to deliver 300% speed compared to the existing B+Tree. Hence your servers will become exceptionally fast and your server cost also goes down eventually.\\n\\nThe end goal for setting up our cloud infrastructure is that we want to inject our h+Tree algorithm into our cloud servers and we look forward to delivering the fastest cloud servers to the entire software industry!',\n",
       "  'location': 'Ahmedabad Area, India',\n",
       "  'logo_url': 'https://media.licdn.com/dms/image/C4E0BAQGR0kHWV5f6lw/company-logo_100_100/0/1622014489125?e=2147483647&v=beta&t=M_9DlGnsgYkSZOPloHrdZk53PHYvrW8P4shsaE_yabM'},\n",
       " {'starts_at': {'day': 1, 'month': 5, 'year': 2012},\n",
       "  'ends_at': {'day': 31, 'month': 7, 'year': 2012},\n",
       "  'company': 'Amitech',\n",
       "  'company_linkedin_profile_url': 'https://in.linkedin.com/company/amitech',\n",
       "  'title': 'Web Developer',\n",
       "  'description': 'Worked as Facebook Application Developer and Firefox Extension Developer at Amitech.\\nAmitech is a software solution company from Ahmedabad.',\n",
       "  'location': 'Ahmedabad Area, India',\n",
       "  'logo_url': 'https://media.licdn.com/dms/image/C4E0BAQFbyMMppPa9iQ/company-logo_100_100/0/1519888006947?e=2147483647&v=beta&t=P7gTerkOsM4DMwCMILrjT-sGwHk6mzK0BVFj7J2-L1s'}]"
      ]
     },
     "execution_count": 45,
     "metadata": {},
     "output_type": "execute_result"
    }
   ],
   "source": [
    "data[\"experiences\"]\n"
   ]
  }
 ],
 "metadata": {
  "kernelspec": {
   "display_name": "Python 3",
   "language": "python",
   "name": "python3"
  },
  "language_info": {
   "codemirror_mode": {
    "name": "ipython",
    "version": 3
   },
   "file_extension": ".py",
   "mimetype": "text/x-python",
   "name": "python",
   "nbconvert_exporter": "python",
   "pygments_lexer": "ipython3",
   "version": "3.8.10 (default, Nov 14 2022, 12:59:47) \n[GCC 9.4.0]"
  },
  "orig_nbformat": 4,
  "vscode": {
   "interpreter": {
    "hash": "31f2aee4e71d21fbe5cf8b01ff0e069b9275f58929596ceb00d14d90e3e16cd6"
   }
  }
 },
 "nbformat": 4,
 "nbformat_minor": 2
}
